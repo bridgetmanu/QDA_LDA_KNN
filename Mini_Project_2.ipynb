{
  "nbformat": 4,
  "nbformat_minor": 0,
  "metadata": {
    "colab": {
      "provenance": [],
      "authorship_tag": "ABX9TyNd37Nw00mOEX/1n0NH4Lg2",
      "include_colab_link": true
    },
    "kernelspec": {
      "name": "python3",
      "display_name": "Python 3"
    },
    "language_info": {
      "name": "python"
    }
  },
  "cells": [
    {
      "cell_type": "markdown",
      "metadata": {
        "id": "view-in-github",
        "colab_type": "text"
      },
      "source": [
        "<a href=\"https://colab.research.google.com/github/bridgetmanu/QDA_LDA_KNN/blob/main/Mini_Project_2.ipynb\" target=\"_parent\"><img src=\"https://colab.research.google.com/assets/colab-badge.svg\" alt=\"Open In Colab\"/></a>"
      ]
    },
    {
      "cell_type": "code",
      "execution_count": 1,
      "metadata": {
        "colab": {
          "base_uri": "https://localhost:8080/"
        },
        "id": "GxC-JUnEnZPQ",
        "outputId": "628b4aed-02ae-4693-bd95-8dbd49de4071"
      },
      "outputs": [
        {
          "output_type": "stream",
          "name": "stdout",
          "text": [
            "Mounted at /content/drive\n"
          ]
        }
      ],
      "source": [
        "from google.colab import drive\n",
        "drive.mount('/content/drive')"
      ]
    },
    {
      "cell_type": "code",
      "source": [
        "# libraries\n",
        "\n",
        "import pandas as pd\n",
        "import numpy as np\n",
        "import matplotlib.pyplot as plt\n",
        "from sklearn.discriminant_analysis import LinearDiscriminantAnalysis as LDA\n",
        "from sklearn.discriminant_analysis import QuadraticDiscriminantAnalysis as QDA\n",
        "from sklearn.naive_bayes import GaussianNB\n",
        "from sklearn.neighbors import KNeighborsClassifier\n",
        "from sklearn.metrics import roc_curve, auc, confusion_matrix\n",
        "from scipy.stats import multivariate_normal"
      ],
      "metadata": {
        "id": "Jf72dmFQnhwU"
      },
      "execution_count": 2,
      "outputs": []
    },
    {
      "cell_type": "code",
      "source": [
        "# Data preprocessing\n",
        "\n",
        "forest = pd.read_csv('/content/drive/MyDrive/forestfires.csv')\n",
        "before = forest.head()\n",
        "\n",
        "# replaces 0 value with 1\n",
        "forest['area'] = forest['area'].replace(0, 1)\n",
        "\n",
        "# natural log\n",
        "forest['area'] = np.log(forest['area'])\n",
        "\n",
        "after = forest.head()\n",
        "\n",
        "print(before)\n",
        "print(after)\n"
      ],
      "metadata": {
        "id": "dcfGXLxcnml_"
      },
      "execution_count": null,
      "outputs": []
    },
    {
      "cell_type": "code",
      "source": [
        "dtrain = pd.read_csv('/content/drive/MyDrive/diabetes_train.csv')\n",
        "dtrain.head()\n",
        "dtest = pd.read_csv('/content/drive/MyDrive/diabetes_test.csv')\n",
        "dtest.head()"
      ],
      "metadata": {
        "id": "PFtphgwOrQYZ"
      },
      "execution_count": null,
      "outputs": []
    },
    {
      "cell_type": "code",
      "source": [
        "admin = pd.read_csv('/content/drive/MyDrive/admission.csv')\n",
        "admin.head()"
      ],
      "metadata": {
        "id": "9evUUsUArQHg"
      },
      "execution_count": null,
      "outputs": []
    },
    {
      "cell_type": "code",
      "source": [
        "# KNN"
      ],
      "metadata": {
        "id": "xzZ-o1d0nv_V"
      },
      "execution_count": null,
      "outputs": []
    },
    {
      "cell_type": "code",
      "source": [
        "# LDA"
      ],
      "metadata": {
        "id": "78Auczzonm0z"
      },
      "execution_count": null,
      "outputs": []
    },
    {
      "cell_type": "code",
      "source": [
        "# QDA"
      ],
      "metadata": {
        "id": "EXwVZD7RnnN-"
      },
      "execution_count": null,
      "outputs": []
    }
  ]
}